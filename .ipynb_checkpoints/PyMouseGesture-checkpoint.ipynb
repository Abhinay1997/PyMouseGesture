{
 "cells": [
  {
   "cell_type": "markdown",
   "metadata": {},
   "source": [
    "# Welcome !\n",
    "\n",
    "PyMouseGesture is a project that aims to show how to build a simple Keras RNN model by using the example of interpreting mouse movement as gestures.\n",
    "\n",
    "## Organization\n",
    "1. [Collecting data](#Collecting_data)\n",
    "1. [Cleaning and Structuring data](#Process_data)\n",
    "1. [Data Visualization](#data_vis)\n",
    "1. [Building an RNN in Keras](#build)\n",
    "1. [Training the model](#train)\n",
    "1. [Live inference !](#Live_Inference)"
   ]
  },
  {
   "cell_type": "markdown",
   "metadata": {},
   "source": [
    "<a id = \"Collecting_data\"></a>\n",
    "\n",
    "## Collecting data\n",
    "\n",
    "\n",
    "The data was collected using the python library [pynput](https://pypi.org/project/pynput/). The script mouse_data_collector.py is a helper script that is used to collect and label the mouse data simultaneously. However if you exit the script the collected data is written to the data.csv file in the directory overwriting any previous file of the same name.\n",
    "\n",
    "The logic behind the script is simple:\n",
    "- create a mouse event listener.\n",
    "- define methods to be called when mouse is clicked and mouse is moved\n",
    "- if mouse is moved collect data for the current gesture\n",
    "- if mouse is clicked stop collecting data for the current gesture.\n",
    "- ask the user to label the gesture\n",
    "- save the collected data as a list of x and y co-ordinates"
   ]
  },
  {
   "cell_type": "code",
   "execution_count": 1,
   "metadata": {},
   "outputs": [],
   "source": [
    "#first let us import the necessary packages and finish setup\n",
    "import pandas as pd\n",
    "import numpy as np\n",
    "import matplotlib.pyplot as plt\n",
    "#set numpy random seed for reproducible results\n",
    "np.random.seed(0)\n",
    "\n",
    "%matplotlib inline"
   ]
  },
  {
   "cell_type": "markdown",
   "metadata": {},
   "source": [
    "<a id = 'Process_data'></a>\n",
    "\n",
    "## Cleaning and Structuring Data\n",
    "\n",
    "Let us first read our collected data before doing anything else. We are using [pandas](https://pandas.pydata.org/) to read and manipulate the data."
   ]
  },
  {
   "cell_type": "code",
   "execution_count": 13,
   "metadata": {},
   "outputs": [
    {
     "name": "stdout",
     "output_type": "stream",
     "text": [
      "Index(['sequence', 'x_coordinates', 'y_coordinates'], dtype='object')\n"
     ]
    },
    {
     "data": {
      "text/html": [
       "<div>\n",
       "<style scoped>\n",
       "    .dataframe tbody tr th:only-of-type {\n",
       "        vertical-align: middle;\n",
       "    }\n",
       "\n",
       "    .dataframe tbody tr th {\n",
       "        vertical-align: top;\n",
       "    }\n",
       "\n",
       "    .dataframe thead th {\n",
       "        text-align: right;\n",
       "    }\n",
       "</style>\n",
       "<table border=\"1\" class=\"dataframe\">\n",
       "  <thead>\n",
       "    <tr style=\"text-align: right;\">\n",
       "      <th></th>\n",
       "      <th>sequence</th>\n",
       "      <th>x_coordinates</th>\n",
       "      <th>y_coordinates</th>\n",
       "    </tr>\n",
       "  </thead>\n",
       "  <tbody>\n",
       "    <tr>\n",
       "      <th>0</th>\n",
       "      <td>0</td>\n",
       "      <td>[305, 305, 303, 299, 295, 289, 281, 272, 264, ...</td>\n",
       "      <td>[141, 141, 141, 141, 141, 139, 138, 137, 136, ...</td>\n",
       "    </tr>\n",
       "    <tr>\n",
       "      <th>1</th>\n",
       "      <td>0</td>\n",
       "      <td>[238, 234, 226, 214, 200, 175, 149, 124, 103, ...</td>\n",
       "      <td>[166, 165, 165, 165, 167, 174, 183, 194, 206, ...</td>\n",
       "    </tr>\n",
       "    <tr>\n",
       "      <th>2</th>\n",
       "      <td>0</td>\n",
       "      <td>[162, 157, 146, 134, 102, 69, 17, -37, -66, -5...</td>\n",
       "      <td>[257, 256, 253, 252, 250, 250, 255, 267, 293, ...</td>\n",
       "    </tr>\n",
       "    <tr>\n",
       "      <th>3</th>\n",
       "      <td>0</td>\n",
       "      <td>[239, 237, 234, 230, 223, 212, 199, 181, 162, ...</td>\n",
       "      <td>[205, 204, 204, 204, 204, 205, 209, 214, 219, ...</td>\n",
       "    </tr>\n",
       "    <tr>\n",
       "      <th>4</th>\n",
       "      <td>0</td>\n",
       "      <td>[248, 247, 245, 240, 226, 214, 188, 160, 120, ...</td>\n",
       "      <td>[221, 220, 219, 218, 217, 215, 214, 214, 214, ...</td>\n",
       "    </tr>\n",
       "  </tbody>\n",
       "</table>\n",
       "</div>"
      ],
      "text/plain": [
       "   sequence                                      x_coordinates  \\\n",
       "0         0  [305, 305, 303, 299, 295, 289, 281, 272, 264, ...   \n",
       "1         0  [238, 234, 226, 214, 200, 175, 149, 124, 103, ...   \n",
       "2         0  [162, 157, 146, 134, 102, 69, 17, -37, -66, -5...   \n",
       "3         0  [239, 237, 234, 230, 223, 212, 199, 181, 162, ...   \n",
       "4         0  [248, 247, 245, 240, 226, 214, 188, 160, 120, ...   \n",
       "\n",
       "                                       y_coordinates  \n",
       "0  [141, 141, 141, 141, 141, 139, 138, 137, 136, ...  \n",
       "1  [166, 165, 165, 165, 167, 174, 183, 194, 206, ...  \n",
       "2  [257, 256, 253, 252, 250, 250, 255, 267, 293, ...  \n",
       "3  [205, 204, 204, 204, 204, 205, 209, 214, 219, ...  \n",
       "4  [221, 220, 219, 218, 217, 215, 214, 214, 214, ...  "
      ]
     },
     "execution_count": 13,
     "metadata": {},
     "output_type": "execute_result"
    }
   ],
   "source": [
    "#read data.csv using pd.read_csv\n",
    "data = pd.read_csv('data.csv')\n",
    "print(data.columns)\n",
    "data.head()"
   ]
  },
  {
   "cell_type": "markdown",
   "metadata": {},
   "source": [
    "As we saved our data into a csv file, while reading the file input, the list variables are read as strings. A helper function in the cell below *string_to_list* converts them back to integer lists."
   ]
  },
  {
   "cell_type": "code",
   "execution_count": 62,
   "metadata": {},
   "outputs": [
    {
     "data": {
      "text/plain": [
       "str"
      ]
     },
     "execution_count": 62,
     "metadata": {},
     "output_type": "execute_result"
    }
   ],
   "source": [
    "type(data.at[0,'x_coordinates'])"
   ]
  },
  {
   "cell_type": "code",
   "execution_count": 63,
   "metadata": {},
   "outputs": [],
   "source": [
    "def string_to_list(string_list):\n",
    "    \"\"\"\n",
    "    Converts list read from csv as string back into integer list. Returns error if string literal has non numeric characters\n",
    "    \n",
    "    Args:\n",
    "    ----\n",
    "    string_list - A list of integers read as a string literal\n",
    "    \n",
    "    Returns:\n",
    "    -------\n",
    "    int_list - A list of integers corresponding to the input string list\n",
    "    \n",
    "    ##Example\n",
    "    z = string_to_list(data.at[0,'x_coordinates']) where data is a pandas DataFrame\n",
    "        \n",
    "    \"\"\"\n",
    "    return list(map(int,string_list.strip('[]').split(',')))\n",
    "    \n",
    "\n"
   ]
  },
  {
   "cell_type": "markdown",
   "metadata": {},
   "source": [
    "We just defined a value of the maximum length of the sequence to be 75. This is obtained by analyzing the lengths of the sequences output from *string_to_list*. \n",
    "\n",
    "Also *m* represents the number of training examples. Here it is 101.\n",
    "\n",
    "Feel free to replace the value of the index in the last line of the cell from 50 to anyother value. You will see values between 60 - 80."
   ]
  },
  {
   "cell_type": "code",
   "execution_count": 64,
   "metadata": {},
   "outputs": [
    {
     "name": "stdout",
     "output_type": "stream",
     "text": [
      "101\n"
     ]
    },
    {
     "data": {
      "text/plain": [
       "73"
      ]
     },
     "execution_count": 64,
     "metadata": {},
     "output_type": "execute_result"
    }
   ],
   "source": [
    "#let maxLen be 120\n",
    "maxLen = 75\n",
    "m = data.shape[0]\n",
    "print(m)\n",
    "len(string_to_list(data.at[50,'x_coordinates']))"
   ]
  },
  {
   "cell_type": "markdown",
   "metadata": {},
   "source": [
    "Now let us create our input and output variables. X will refer to our input variable of shape (2,m,maxLen) and Y will refer to our output variable of shape (m,)\n",
    "\n",
    "X is initialized as a numpy array of zeros with m rows, 2 columns and depth equal to maxLen\n",
    "Y is directly assigned values by converting a dataframe column to numpy array"
   ]
  },
  {
   "cell_type": "code",
   "execution_count": 38,
   "metadata": {},
   "outputs": [
    {
     "name": "stdout",
     "output_type": "stream",
     "text": [
      "The shape of X is  (101, 2, 75)\n",
      "The shape of Y is  (101,)\n"
     ]
    }
   ],
   "source": [
    "X = np.zeros((m,2,maxLen))\n",
    "Y = data['sequence'].values\n",
    "print(\"The shape of X is \",X.shape)\n",
    "print(\"The shape of Y is \",Y.shape)"
   ]
  },
  {
   "cell_type": "code",
   "execution_count": 57,
   "metadata": {},
   "outputs": [],
   "source": [
    "for i in range(m):\n",
    "    x = string_to_list(data.at[i,'x_coordinates'])\n",
    "    y = string_to_list(data.at[i,'y_coordinates'])\n",
    "    if len(x) > maxLen:\n",
    "        X[i,0,:len(x)] =x[:maxLen]\n",
    "        X[i,1,:len(y)] =y[:maxLen]\n",
    "    else:\n",
    "        X[i,0,:len(x)] =x\n",
    "        X[i,1,:len(y)] =y"
   ]
  },
  {
   "cell_type": "markdown",
   "metadata": {},
   "source": [
    "Now comes the time for data processing. We'll first do data normalization then proceed to "
   ]
  },
  {
   "cell_type": "markdown",
   "metadata": {},
   "source": [
    "## Live Inference <a id = 'Live_Inference' ></a> "
   ]
  }
 ],
 "metadata": {
  "kernelspec": {
   "display_name": "Python 3",
   "language": "python",
   "name": "python3"
  },
  "language_info": {
   "codemirror_mode": {
    "name": "ipython",
    "version": 3
   },
   "file_extension": ".py",
   "mimetype": "text/x-python",
   "name": "python",
   "nbconvert_exporter": "python",
   "pygments_lexer": "ipython3",
   "version": "3.6.6"
  }
 },
 "nbformat": 4,
 "nbformat_minor": 2
}
