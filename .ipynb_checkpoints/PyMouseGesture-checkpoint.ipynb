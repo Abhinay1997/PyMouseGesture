{
 "cells": [
  {
   "cell_type": "markdown",
   "metadata": {},
   "source": [
    "# Welcome !\n",
    "\n",
    "PyMouseGesture is a project that aims to show how to build a simple Keras RNN model by using the example of interpreting mouse movement as gestures.\n",
    "\n",
    "## Organization\n",
    "1. [Collecting data](#Collecting_data)\n",
    "1. [Data Visualization](#data_vis)\n",
    "1. [Cleaning and Structuring data](#Process_data)\n",
    "1. [Building an RNN in Keras](#build)\n",
    "1. [Training the model](#train)\n",
    "1. [Live inference !](#Live_Inference)"
   ]
  },
  {
   "cell_type": "markdown",
   "metadata": {},
   "source": [
    "<a id = \"Collecting_data\"></a>\n",
    "\n",
    "## Collecting data\n",
    "\n",
    "\n",
    "The data was collected using the python library [pynput](https://pypi.org/project/pynput/). The script mouse_data_collector.py is a helper script that is used to collect and label the mouse data simultaneously. However if you exit the script the collected data is written to the data.csv file in the directory overwriting any previous file of the same name.\n",
    "\n",
    "The logic behind the script is simple:\n",
    "- create a mouse event listener.\n",
    "- define methods to be called when mouse is clicked and mouse is moved\n",
    "- if mouse is moved collect data for the current gesture\n",
    "- if mouse is clicked stop collecting data for the current gesture.\n",
    "- ask the user to label the gesture\n",
    "- save the collected data as a list of x and y co-ordinates"
   ]
  },
  {
   "cell_type": "code",
   "execution_count": 2,
   "metadata": {},
   "outputs": [],
   "source": [
    "#first let us import the necessary packages and finish setup\n",
    "import pandas as pd\n",
    "import numpy as np\n",
    "import matplotlib.pyplot as plt\n",
    "#set numpy random seed for reproducible results\n",
    "np.random.seed(0)\n",
    "\n",
    "%matplotlib inline"
   ]
  },
  {
   "cell_type": "markdown",
   "metadata": {},
   "source": [
    "<a id = 'data_vis'></a>\n",
    "\n",
    "## Data Visualization\n",
    "\n",
    "Let us first visualize our collected data before doing anything else. We are using [pandas](https://pandas.pydata.org/) to display the data and [matplotlib's pyplot](https://matplotlib.org/users/pyplot_tutorial.html) to plot the examples."
   ]
  },
  {
   "cell_type": "code",
   "execution_count": 12,
   "metadata": {},
   "outputs": [
    {
     "name": "stdout",
     "output_type": "stream",
     "text": [
      "Index(['sequence', 'x_coordinates', 'y_coordinates'], dtype='object')\n"
     ]
    },
    {
     "data": {
      "text/html": [
       "<div>\n",
       "<style scoped>\n",
       "    .dataframe tbody tr th:only-of-type {\n",
       "        vertical-align: middle;\n",
       "    }\n",
       "\n",
       "    .dataframe tbody tr th {\n",
       "        vertical-align: top;\n",
       "    }\n",
       "\n",
       "    .dataframe thead th {\n",
       "        text-align: right;\n",
       "    }\n",
       "</style>\n",
       "<table border=\"1\" class=\"dataframe\">\n",
       "  <thead>\n",
       "    <tr style=\"text-align: right;\">\n",
       "      <th></th>\n",
       "      <th>sequence</th>\n",
       "      <th>x_coordinates</th>\n",
       "      <th>y_coordinates</th>\n",
       "    </tr>\n",
       "  </thead>\n",
       "  <tbody>\n",
       "    <tr>\n",
       "      <th>0</th>\n",
       "      <td>0</td>\n",
       "      <td>[305, 305, 303, 299, 295, 289, 281, 272, 264, ...</td>\n",
       "      <td>[141, 141, 141, 141, 141, 139, 138, 137, 136, ...</td>\n",
       "    </tr>\n",
       "    <tr>\n",
       "      <th>1</th>\n",
       "      <td>0</td>\n",
       "      <td>[238, 234, 226, 214, 200, 175, 149, 124, 103, ...</td>\n",
       "      <td>[166, 165, 165, 165, 167, 174, 183, 194, 206, ...</td>\n",
       "    </tr>\n",
       "    <tr>\n",
       "      <th>2</th>\n",
       "      <td>0</td>\n",
       "      <td>[162, 157, 146, 134, 102, 69, 17, -37, -66, -5...</td>\n",
       "      <td>[257, 256, 253, 252, 250, 250, 255, 267, 293, ...</td>\n",
       "    </tr>\n",
       "    <tr>\n",
       "      <th>3</th>\n",
       "      <td>0</td>\n",
       "      <td>[239, 237, 234, 230, 223, 212, 199, 181, 162, ...</td>\n",
       "      <td>[205, 204, 204, 204, 204, 205, 209, 214, 219, ...</td>\n",
       "    </tr>\n",
       "    <tr>\n",
       "      <th>4</th>\n",
       "      <td>0</td>\n",
       "      <td>[248, 247, 245, 240, 226, 214, 188, 160, 120, ...</td>\n",
       "      <td>[221, 220, 219, 218, 217, 215, 214, 214, 214, ...</td>\n",
       "    </tr>\n",
       "  </tbody>\n",
       "</table>\n",
       "</div>"
      ],
      "text/plain": [
       "   sequence                                      x_coordinates  \\\n",
       "0         0  [305, 305, 303, 299, 295, 289, 281, 272, 264, ...   \n",
       "1         0  [238, 234, 226, 214, 200, 175, 149, 124, 103, ...   \n",
       "2         0  [162, 157, 146, 134, 102, 69, 17, -37, -66, -5...   \n",
       "3         0  [239, 237, 234, 230, 223, 212, 199, 181, 162, ...   \n",
       "4         0  [248, 247, 245, 240, 226, 214, 188, 160, 120, ...   \n",
       "\n",
       "                                       y_coordinates  \n",
       "0  [141, 141, 141, 141, 141, 139, 138, 137, 136, ...  \n",
       "1  [166, 165, 165, 165, 167, 174, 183, 194, 206, ...  \n",
       "2  [257, 256, 253, 252, 250, 250, 255, 267, 293, ...  \n",
       "3  [205, 204, 204, 204, 204, 205, 209, 214, 219, ...  \n",
       "4  [221, 220, 219, 218, 217, 215, 214, 214, 214, ...  "
      ]
     },
     "execution_count": 12,
     "metadata": {},
     "output_type": "execute_result"
    }
   ],
   "source": [
    "#read data.csv using pd.read_csv\n",
    "data = pd.read_csv('data.csv')\n",
    "print(data.columns)\n",
    "data.head()"
   ]
  },
  {
   "cell_type": "code",
   "execution_count": null,
   "metadata": {},
   "outputs": [],
   "source": []
  },
  {
   "cell_type": "code",
   "execution_count": null,
   "metadata": {},
   "outputs": [],
   "source": []
  },
  {
   "cell_type": "code",
   "execution_count": null,
   "metadata": {},
   "outputs": [],
   "source": []
  },
  {
   "cell_type": "code",
   "execution_count": null,
   "metadata": {},
   "outputs": [],
   "source": []
  },
  {
   "cell_type": "markdown",
   "metadata": {},
   "source": [
    "## Live Inference <a id = 'Live_Inference' ></a> "
   ]
  }
 ],
 "metadata": {
  "kernelspec": {
   "display_name": "Python 3",
   "language": "python",
   "name": "python3"
  },
  "language_info": {
   "codemirror_mode": {
    "name": "ipython",
    "version": 3
   },
   "file_extension": ".py",
   "mimetype": "text/x-python",
   "name": "python",
   "nbconvert_exporter": "python",
   "pygments_lexer": "ipython3",
   "version": "3.6.6"
  }
 },
 "nbformat": 4,
 "nbformat_minor": 2
}
