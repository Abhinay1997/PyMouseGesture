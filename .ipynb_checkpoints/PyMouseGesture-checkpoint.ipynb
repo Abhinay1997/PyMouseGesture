{
 "cells": [
  {
   "cell_type": "markdown",
   "metadata": {},
   "source": [
    "# Welcome !\n",
    "\n",
    "PyMouseGesture is a project that aims to show how to build a simple Keras RNN model by using the example of interpreting mouse movement as gestures.\n",
    "\n",
    "## Organization\n",
    "1. [Collecting data](#Collecting_data)\n",
    "1. [Cleaning and Structuring data](#Process_data)\n",
    "1. [Data Visualization](#data_vis)\n",
    "1. [Building an RNN in Keras](#build)\n",
    "1. [Training the model](#train)\n",
    "1. [Live inference !](#Live_Inference)"
   ]
  },
  {
   "cell_type": "markdown",
   "metadata": {},
   "source": [
    "<a id = \"Collecting_data\"></a>\n",
    "\n",
    "## Collecting data\n",
    "\n",
    "\n",
    "The data was collected using the python library [pynput](https://pypi.org/project/pynput/). The script mouse_data_collector.py is a helper script that is used to collect and label the mouse data simultaneously. However if you exit the script the collected data is written to the data.csv file in the directory overwriting any previous file of the same name.\n",
    "\n",
    "The logic behind the script is simple:\n",
    "- create a mouse event listener.\n",
    "- define methods to be called when mouse is clicked and mouse is moved\n",
    "- if mouse is moved collect data for the current gesture\n",
    "- if mouse is clicked stop collecting data for the current gesture.\n",
    "- ask the user to label the gesture\n",
    "- save the collected data as a list of x and y co-ordinates"
   ]
  },
  {
   "cell_type": "code",
   "execution_count": 1,
   "metadata": {},
   "outputs": [],
   "source": [
    "#first let us import the necessary packages and finish setup\n",
    "import pandas as pd\n",
    "import numpy as np\n",
    "import matplotlib.pyplot as plt\n",
    "#set numpy random seed for reproducible results\n",
    "np.random.seed(0)\n",
    "\n",
    "%matplotlib inline"
   ]
  },
  {
   "cell_type": "markdown",
   "metadata": {},
   "source": [
    "<a id = 'Process_data'></a>\n",
    "\n",
    "## Cleaning and Structuring Data\n",
    "\n",
    "Let us first read our collected data before doing anything else. We are using [pandas](https://pandas.pydata.org/) to read and manipulate the data."
   ]
  },
  {
   "cell_type": "code",
   "execution_count": 41,
   "metadata": {},
   "outputs": [
    {
     "name": "stdout",
     "output_type": "stream",
     "text": [
      "Index(['sequence', 'x_coordinates', 'y_coordinates'], dtype='object')\n"
     ]
    },
    {
     "data": {
      "text/html": [
       "<div>\n",
       "<style scoped>\n",
       "    .dataframe tbody tr th:only-of-type {\n",
       "        vertical-align: middle;\n",
       "    }\n",
       "\n",
       "    .dataframe tbody tr th {\n",
       "        vertical-align: top;\n",
       "    }\n",
       "\n",
       "    .dataframe thead th {\n",
       "        text-align: right;\n",
       "    }\n",
       "</style>\n",
       "<table border=\"1\" class=\"dataframe\">\n",
       "  <thead>\n",
       "    <tr style=\"text-align: right;\">\n",
       "      <th></th>\n",
       "      <th>sequence</th>\n",
       "      <th>x_coordinates</th>\n",
       "      <th>y_coordinates</th>\n",
       "    </tr>\n",
       "  </thead>\n",
       "  <tbody>\n",
       "    <tr>\n",
       "      <th>0</th>\n",
       "      <td>0</td>\n",
       "      <td>[305, 305, 303, 299, 295, 289, 281, 272, 264, ...</td>\n",
       "      <td>[141, 141, 141, 141, 141, 139, 138, 137, 136, ...</td>\n",
       "    </tr>\n",
       "    <tr>\n",
       "      <th>1</th>\n",
       "      <td>0</td>\n",
       "      <td>[238, 234, 226, 214, 200, 175, 149, 124, 103, ...</td>\n",
       "      <td>[166, 165, 165, 165, 167, 174, 183, 194, 206, ...</td>\n",
       "    </tr>\n",
       "    <tr>\n",
       "      <th>2</th>\n",
       "      <td>0</td>\n",
       "      <td>[162, 157, 146, 134, 102, 69, 17, -37, -66, -5...</td>\n",
       "      <td>[257, 256, 253, 252, 250, 250, 255, 267, 293, ...</td>\n",
       "    </tr>\n",
       "    <tr>\n",
       "      <th>3</th>\n",
       "      <td>0</td>\n",
       "      <td>[239, 237, 234, 230, 223, 212, 199, 181, 162, ...</td>\n",
       "      <td>[205, 204, 204, 204, 204, 205, 209, 214, 219, ...</td>\n",
       "    </tr>\n",
       "    <tr>\n",
       "      <th>4</th>\n",
       "      <td>0</td>\n",
       "      <td>[248, 247, 245, 240, 226, 214, 188, 160, 120, ...</td>\n",
       "      <td>[221, 220, 219, 218, 217, 215, 214, 214, 214, ...</td>\n",
       "    </tr>\n",
       "  </tbody>\n",
       "</table>\n",
       "</div>"
      ],
      "text/plain": [
       "   sequence                                      x_coordinates  \\\n",
       "0         0  [305, 305, 303, 299, 295, 289, 281, 272, 264, ...   \n",
       "1         0  [238, 234, 226, 214, 200, 175, 149, 124, 103, ...   \n",
       "2         0  [162, 157, 146, 134, 102, 69, 17, -37, -66, -5...   \n",
       "3         0  [239, 237, 234, 230, 223, 212, 199, 181, 162, ...   \n",
       "4         0  [248, 247, 245, 240, 226, 214, 188, 160, 120, ...   \n",
       "\n",
       "                                       y_coordinates  \n",
       "0  [141, 141, 141, 141, 141, 139, 138, 137, 136, ...  \n",
       "1  [166, 165, 165, 165, 167, 174, 183, 194, 206, ...  \n",
       "2  [257, 256, 253, 252, 250, 250, 255, 267, 293, ...  \n",
       "3  [205, 204, 204, 204, 204, 205, 209, 214, 219, ...  \n",
       "4  [221, 220, 219, 218, 217, 215, 214, 214, 214, ...  "
      ]
     },
     "execution_count": 41,
     "metadata": {},
     "output_type": "execute_result"
    }
   ],
   "source": [
    "#read data.csv using pd.read_csv\n",
    "data = pd.read_csv('data.csv')\n",
    "print(data.columns)\n",
    "data.head()"
   ]
  },
  {
   "cell_type": "markdown",
   "metadata": {},
   "source": [
    "As we saved our data into a csv file, while reading the file input, the list variables are read as strings. A helper function in the cell below *string_to_list* converts them back to integer lists."
   ]
  },
  {
   "cell_type": "code",
   "execution_count": 42,
   "metadata": {},
   "outputs": [
    {
     "data": {
      "text/plain": [
       "str"
      ]
     },
     "execution_count": 42,
     "metadata": {},
     "output_type": "execute_result"
    }
   ],
   "source": [
    "type(data.at[0,'x_coordinates'])"
   ]
  },
  {
   "cell_type": "code",
   "execution_count": 43,
   "metadata": {},
   "outputs": [],
   "source": [
    "def string_to_list(string_list):\n",
    "    \"\"\"\n",
    "    Converts list read from csv as string back into integer list. Returns error if string literal has non numeric characters\n",
    "    \n",
    "    Args:\n",
    "    ----\n",
    "    string_list - A list of integers read as a string literal\n",
    "    \n",
    "    Returns:\n",
    "    -------\n",
    "    int_list - A list of integers corresponding to the input string list\n",
    "    \n",
    "    ##Example\n",
    "    z = string_to_list(data.at[0,'x_coordinates']) where data is a pandas DataFrame\n",
    "        \n",
    "    \"\"\"\n",
    "    return list(map(int,string_list.strip('[]').split(',')))\n",
    "    \n",
    "\n"
   ]
  },
  {
   "cell_type": "markdown",
   "metadata": {},
   "source": [
    "We just defined a value of the maximum length of the sequence to be 75. This is obtained by analyzing the lengths of the sequences output from *string_to_list*. \n",
    "\n",
    "Also *m* represents the number of training examples. Here it is 101.\n",
    "\n",
    "Feel free to replace the value of the index in the last line of the cell from 50 to anyother value. You will see values between 60 - 80."
   ]
  },
  {
   "cell_type": "code",
   "execution_count": 44,
   "metadata": {},
   "outputs": [
    {
     "name": "stdout",
     "output_type": "stream",
     "text": [
      "252\n"
     ]
    },
    {
     "data": {
      "text/plain": [
       "73"
      ]
     },
     "execution_count": 44,
     "metadata": {},
     "output_type": "execute_result"
    }
   ],
   "source": [
    "#let maxLen be 120\n",
    "maxLen = 75\n",
    "m = data.shape[0]\n",
    "print(m)\n",
    "len(string_to_list(data.at[50,'x_coordinates']))"
   ]
  },
  {
   "cell_type": "markdown",
   "metadata": {},
   "source": [
    "Now let us create our input and output variables. X will refer to our input variable of shape (2,m,maxLen) and Z will refer to our output variable of shape (m,)\n",
    "\n",
    "X is initialized as a numpy array of zeros with m rows, 2 columns and depth equal to maxLen\n",
    "Z is directly assigned values by converting a dataframe column to numpy array"
   ]
  },
  {
   "cell_type": "code",
   "execution_count": 45,
   "metadata": {},
   "outputs": [
    {
     "name": "stdout",
     "output_type": "stream",
     "text": [
      "The shape of X is  (252, 2, 75)\n",
      "The shape of Z is  (252,)\n"
     ]
    }
   ],
   "source": [
    "X = np.zeros((m,2,maxLen))\n",
    "Z = data['sequence'].values\n",
    "print(\"The shape of X is \",X.shape)\n",
    "print(\"The shape of Z is \",Z.shape)"
   ]
  },
  {
   "cell_type": "markdown",
   "metadata": {},
   "source": [
    "Before we create store the values in the numpy array, let us scale the data appropriately so that the values lie in the range (0 - 1). I had intended to do this after storing my values in the numpy array. However the appended zeros in the array will be changed to non-zero values which is not a good idea. So I am scaling the data using the minimum and maximum values in the sequence. Another way would be to use domain knowledge such as the minimum and maximum values that pynput can give. However this is not availabe to us.\n",
    "\n",
    "The system resolution of the test PC is 1366 x 768. However while running a simple program to output the mouse position, coordinates were often negative to the tune of -400 even. But we'll still use 1366 x 768 for the data.csv generated for this PC.\n",
    "\n",
    "While inference, the scaling should be done using the screen resolution of the pc carrying out the inference. \n",
    "\n",
    "Therefore,\n",
    "1. X_MAX = 1366\n",
    "1. X_MIN = 0\n",
    "1. Y_MAX = 768\n",
    "1. Y_MIN = 0"
   ]
  },
  {
   "cell_type": "code",
   "execution_count": 46,
   "metadata": {},
   "outputs": [],
   "source": [
    "def max_min_normalize(MAX,MIN,value):\n",
    "    '''\n",
    "    args:\n",
    "    ----\n",
    "    MAX - maximum value of the data distribution.\n",
    "    MIN - minimum value of the data distribution.\n",
    "    value - the value to be normalized.\n",
    "    \n",
    "    return:\n",
    "    ------\n",
    "    norm_value - the normalized value.\n",
    "    \n",
    "    norm_value = ( value - MIN ) / ( MAX - MIN )\n",
    "        \n",
    "    '''\n",
    "    return (value - MIN) / (MAX - MIN)"
   ]
  },
  {
   "cell_type": "markdown",
   "metadata": {},
   "source": [
    "Let's use Python's map function to normalize the sequence before storing it in an array.\n"
   ]
  },
  {
   "cell_type": "code",
   "execution_count": 47,
   "metadata": {},
   "outputs": [],
   "source": [
    "X_MAX = 1366\n",
    "X_MIN = 0\n",
    "Y_MAX = 768\n",
    "Y_MIN = 0\n",
    "\n",
    "for i in range(m):\n",
    "    x = map(lambda x:max_min_normalize(X_MAX,X_MIN,x),string_to_list(data.at[i,'x_coordinates']))\n",
    "    y = map(lambda y:max_min_normalize(Y_MAX,Y_MIN,y),string_to_list(data.at[i,'y_coordinates']))\n",
    "    x = list(x)\n",
    "    y = list(y)\n",
    "    if len(x) > maxLen:\n",
    "        X[i,0,:len(x)] =x[:maxLen]\n",
    "        X[i,1,:len(y)] =y[:maxLen]\n",
    "    else:\n",
    "        X[i,0,:len(x)] =x\n",
    "        X[i,1,:len(y)] =y\n",
    "        "
   ]
  },
  {
   "cell_type": "markdown",
   "metadata": {},
   "source": [
    "Let's one hot encode the class labels. Let us now import the keras modules to build our network as well as one hot encode the data."
   ]
  },
  {
   "cell_type": "code",
   "execution_count": 9,
   "metadata": {},
   "outputs": [
    {
     "name": "stderr",
     "output_type": "stream",
     "text": [
      "Using TensorFlow backend.\n"
     ]
    }
   ],
   "source": [
    "from keras.models import Model\n",
    "from keras.layers import Dense,Input,Dropout,LSTM,Activation\n",
    "from keras.initializers import glorot_uniform\n",
    "from keras.utils import to_categorical"
   ]
  },
  {
   "cell_type": "code",
   "execution_count": 48,
   "metadata": {},
   "outputs": [
    {
     "name": "stdout",
     "output_type": "stream",
     "text": [
      "(252,)\n",
      "(252, 5)\n"
     ]
    }
   ],
   "source": [
    "print(Z.shape)\n",
    "Z = to_categorical(Z,5)\n",
    "print(Z.shape)"
   ]
  },
  {
   "cell_type": "code",
   "execution_count": 49,
   "metadata": {},
   "outputs": [],
   "source": [
    "def MouseClassify(input_shape):\n",
    "    X_Input = Input(shape = input_shape,dtype=np.float32)\n",
    "    X = LSTM(256,return_sequences=True)(X_Input)\n",
    "    X = Dropout(0.5)(X)\n",
    "    X = LSTM(128,return_sequences=False)(X)\n",
    "    X = Dropout(0.5)(X)\n",
    "    X = Dense(32)(X)\n",
    "    X = Dense(5)(X)\n",
    "    X = Activation('softmax')(X)\n",
    "    model = Model(X_Input,X)\n",
    "    \n",
    "    return model\n"
   ]
  },
  {
   "cell_type": "code",
   "execution_count": 50,
   "metadata": {},
   "outputs": [],
   "source": [
    "model_0 = MouseClassify((75,2))\n",
    "model_0.compile(loss='categorical_crossentropy',optimizer='sgd',metrics=['accuracy'])"
   ]
  },
  {
   "cell_type": "code",
   "execution_count": 51,
   "metadata": {},
   "outputs": [
    {
     "name": "stdout",
     "output_type": "stream",
     "text": [
      "Epoch 1/15\n",
      "252/252 [==============================] - 13s 51ms/step - loss: 1.6128 - acc: 0.1627\n",
      "Epoch 2/15\n",
      "252/252 [==============================] - 8s 33ms/step - loss: 1.6131 - acc: 0.1825\n",
      "Epoch 3/15\n",
      "252/252 [==============================] - 10s 40ms/step - loss: 1.6132 - acc: 0.1825\n",
      "Epoch 4/15\n",
      "252/252 [==============================] - 14s 54ms/step - loss: 1.6120 - acc: 0.1548\n",
      "Epoch 5/15\n",
      "252/252 [==============================] - 11s 44ms/step - loss: 1.6125 - acc: 0.1786\n",
      "Epoch 6/15\n",
      "252/252 [==============================] - 8s 32ms/step - loss: 1.6125 - acc: 0.2024\n",
      "Epoch 7/15\n",
      "252/252 [==============================] - 11s 46ms/step - loss: 1.6108 - acc: 0.1627\n",
      "Epoch 8/15\n",
      "252/252 [==============================] - 12s 48ms/step - loss: 1.6112 - acc: 0.2063\n",
      "Epoch 9/15\n",
      "252/252 [==============================] - 11s 45ms/step - loss: 1.6121 - acc: 0.1786\n",
      "Epoch 10/15\n",
      "252/252 [==============================] - 13s 51ms/step - loss: 1.6099 - acc: 0.1905\n",
      "Epoch 11/15\n",
      "252/252 [==============================] - 12s 49ms/step - loss: 1.6119 - acc: 0.2024\n",
      "Epoch 12/15\n",
      "252/252 [==============================] - 14s 54ms/step - loss: 1.6105 - acc: 0.2024\n",
      "Epoch 13/15\n",
      "252/252 [==============================] - 15s 60ms/step - loss: 1.6094 - acc: 0.2063\n",
      "Epoch 14/15\n",
      "252/252 [==============================] - 14s 54ms/step - loss: 1.6100 - acc: 0.2262\n",
      "Epoch 15/15\n",
      "252/252 [==============================] - 13s 51ms/step - loss: 1.6090 - acc: 0.2222\n",
      "_________________________________________________________________\n",
      "Layer (type)                 Output Shape              Param #   \n",
      "=================================================================\n",
      "input_3 (InputLayer)         (None, 75, 2)             0         \n",
      "_________________________________________________________________\n",
      "lstm_3 (LSTM)                (None, 75, 256)           265216    \n",
      "_________________________________________________________________\n",
      "dropout_4 (Dropout)          (None, 75, 256)           0         \n",
      "_________________________________________________________________\n",
      "lstm_4 (LSTM)                (None, 128)               197120    \n",
      "_________________________________________________________________\n",
      "dropout_5 (Dropout)          (None, 128)               0         \n",
      "_________________________________________________________________\n",
      "dense_5 (Dense)              (None, 32)                4128      \n",
      "_________________________________________________________________\n",
      "dense_6 (Dense)              (None, 5)                 165       \n",
      "_________________________________________________________________\n",
      "activation_2 (Activation)    (None, 5)                 0         \n",
      "=================================================================\n",
      "Total params: 466,629\n",
      "Trainable params: 466,629\n",
      "Non-trainable params: 0\n",
      "_________________________________________________________________\n"
     ]
    }
   ],
   "source": [
    "model_0.fit(x=np.swapaxes(X,1,2),y=Z,batch_size=25,epochs=15)\n",
    "model_0.summary()"
   ]
  },
  {
   "cell_type": "code",
   "execution_count": 52,
   "metadata": {},
   "outputs": [
    {
     "name": "stdout",
     "output_type": "stream",
     "text": [
      "1/1 [==============================] - 1s 957ms/step\n",
      "[[0.20926528 0.18991499 0.2031836  0.19273911 0.20489705]]\n"
     ]
    },
    {
     "data": {
      "text/plain": [
       "array([[1., 0., 0., 0., 0.]], dtype=float32)"
      ]
     },
     "execution_count": 52,
     "metadata": {},
     "output_type": "execute_result"
    }
   ],
   "source": [
    "print(model_0.predict(np.swapaxes(X[0:1],1,2),verbose=1))\n",
    "Z[0:1]"
   ]
  },
  {
   "cell_type": "code",
   "execution_count": 53,
   "metadata": {},
   "outputs": [
    {
     "data": {
      "text/plain": [
       "[<matplotlib.lines.Line2D at 0x1de8d5e34a8>]"
      ]
     },
     "execution_count": 53,
     "metadata": {},
     "output_type": "execute_result"
    },
    {
     "data": {
      "image/png": "[encoded data removed]",
      "text/plain": [
       "<Figure size 432x288 with 1 Axes>"
      ]
     },
     "metadata": {},
     "output_type": "display_data"
    }
   ],
   "source": [
    "plt.plot(X[0,0,:],X[0,1,:])"
   ]
  },
  {
   "cell_type": "markdown",
   "metadata": {},
   "source": [
    "Obvioulsy the model has failed to learn anything. The model is as good as randomly guessing the class labels. So its useless. Let us try a one dimensional CNN."
   ]
  },
  {
   "cell_type": "code",
   "execution_count": 70,
   "metadata": {},
   "outputs": [],
   "source": [
    "from keras.layers import Conv1D, GlobalAveragePooling1D, MaxPooling1D\n",
    "from sklearn.model_selection import train_test_split\n",
    "from keras.callbacks import EarlyStopping,ModelCheckpoint"
   ]
  },
  {
   "cell_type": "code",
   "execution_count": 67,
   "metadata": {},
   "outputs": [],
   "source": [
    "def CNNMouseClassify(input_shape):\n",
    "    X_input = Input(input_shape,dtype=np.float32)\n",
    "    #Sequence classifier example on Keras website\n",
    "    X = Conv1D(64,3,activation='relu')(X_input)\n",
    "    X = Conv1D(64,3,activation='relu')(X)\n",
    "    X = MaxPooling1D(3)(X)\n",
    "    X = Conv1D(128,3,activation='relu')(X)\n",
    "    X = Conv1D(128,3,activation='relu')(X)\n",
    "    X = GlobalAveragePooling1D()(X)\n",
    "    X = Dropout(0.5)(X)\n",
    "    X = Dense(32)(X)\n",
    "    X = Dense(5,activation='softmax')(X)\n",
    "    return Model(X_input,X)"
   ]
  },
  {
   "cell_type": "code",
   "execution_count": 68,
   "metadata": {},
   "outputs": [
    {
     "data": {
      "text/plain": [
       "(189, 2, 75)"
      ]
     },
     "execution_count": 68,
     "metadata": {},
     "output_type": "execute_result"
    }
   ],
   "source": [
    "X_train, X_test, y_train, y_test = train_test_split(X,Z,test_size = 0.25)\n",
    "X_train.shape"
   ]
  },
  {
   "cell_type": "code",
   "execution_count": 103,
   "metadata": {},
   "outputs": [],
   "source": [
    "model = CNNMouseClassify((75,2))\n",
    "model.compile(loss='categorical_crossentropy',optimizer='adam',metrics=['accuracy'])"
   ]
  },
  {
   "cell_type": "code",
   "execution_count": 107,
   "metadata": {},
   "outputs": [],
   "source": [
    "#configure callbacks\n",
    "es = EarlyStopping(monitor='val_loss',verbose=1,patience=20)\n",
    "mc = ModelCheckpoint('best_model.h5', monitor='val_loss', verbose = 1,mode='min', save_best_only=True)"
   ]
  },
  {
   "cell_type": "markdown",
   "metadata": {},
   "source": [
    "Why not use validation accuracy? The main reason is that accuracy is a coarse measure of model performance during training and that loss provides more nuance when using early stopping with classification problems."
   ]
  },
  {
   "cell_type": "code",
   "execution_count": 108,
   "metadata": {
    "scrolled": true
   },
   "outputs": [
    {
     "name": "stdout",
     "output_type": "stream",
     "text": [
      "Train on 189 samples, validate on 63 samples\n",
      "Epoch 1/100\n",
      "189/189 [==============================] - 16s 84ms/step - loss: 1.6105 - acc: 0.1799 - val_loss: 1.5707 - val_acc: 0.2222\n",
      "\n",
      "Epoch 00001: val_loss improved from inf to 1.57066, saving model to best_model.h5\n",
      "Epoch 2/100\n",
      "189/189 [==============================] - 12s 65ms/step - loss: 1.5688 - acc: 0.2804 - val_loss: 1.5298 - val_acc: 0.5714\n",
      "\n",
      "Epoch 00002: val_loss improved from 1.57066 to 1.52980, saving model to best_model.h5\n",
      "Epoch 3/100\n",
      "189/189 [==============================] - 10s 55ms/step - loss: 1.5215 - acc: 0.4074 - val_loss: 1.4252 - val_acc: 0.5079\n",
      "\n",
      "Epoch 00003: val_loss improved from 1.52980 to 1.42523, saving model to best_model.h5\n",
      "Epoch 4/100\n",
      "189/189 [==============================] - 12s 61ms/step - loss: 1.4253 - acc: 0.4974 - val_loss: 1.3564 - val_acc: 0.7460\n",
      "\n",
      "Epoch 00004: val_loss improved from 1.42523 to 1.35640, saving model to best_model.h5\n",
      "Epoch 5/100\n",
      "189/189 [==============================] - 12s 66ms/step - loss: 1.3683 - acc: 0.5132 - val_loss: 1.2229 - val_acc: 0.5397\n",
      "\n",
      "Epoch 00005: val_loss improved from 1.35640 to 1.22293, saving model to best_model.h5\n",
      "Epoch 6/100\n",
      "189/189 [==============================] - 12s 65ms/step - loss: 1.3751 - acc: 0.4497 - val_loss: 1.2152 - val_acc: 0.6508\n",
      "\n",
      "Epoch 00006: val_loss improved from 1.22293 to 1.21525, saving model to best_model.h5\n",
      "Epoch 7/100\n",
      "189/189 [==============================] - 12s 64ms/step - loss: 1.2889 - acc: 0.5132 - val_loss: 1.2065 - val_acc: 0.5556\n",
      "\n",
      "Epoch 00007: val_loss improved from 1.21525 to 1.20649, saving model to best_model.h5\n",
      "Epoch 8/100\n",
      "189/189 [==============================] - 12s 62ms/step - loss: 1.2416 - acc: 0.5026 - val_loss: 1.1271 - val_acc: 0.6825\n",
      "\n",
      "Epoch 00008: val_loss improved from 1.20649 to 1.12714, saving model to best_model.h5\n",
      "Epoch 9/100\n",
      "189/189 [==============================] - 11s 60ms/step - loss: 1.2126 - acc: 0.5344 - val_loss: 1.1819 - val_acc: 0.4762\n",
      "\n",
      "Epoch 00009: val_loss did not improve from 1.12714\n",
      "Epoch 10/100\n",
      "189/189 [==============================] - 11s 61ms/step - loss: 1.1933 - acc: 0.5661 - val_loss: 1.0388 - val_acc: 0.7619\n",
      "\n",
      "Epoch 00010: val_loss improved from 1.12714 to 1.03883, saving model to best_model.h5\n",
      "Epoch 11/100\n",
      "189/189 [==============================] - 10s 55ms/step - loss: 1.1324 - acc: 0.6243 - val_loss: 0.9758 - val_acc: 0.7460\n",
      "\n",
      "Epoch 00011: val_loss improved from 1.03883 to 0.97578, saving model to best_model.h5\n",
      "Epoch 12/100\n",
      "189/189 [==============================] - 10s 54ms/step - loss: 1.0346 - acc: 0.6720 - val_loss: 0.9547 - val_acc: 0.7302\n",
      "\n",
      "Epoch 00012: val_loss improved from 0.97578 to 0.95473, saving model to best_model.h5\n",
      "Epoch 13/100\n",
      "189/189 [==============================] - 11s 60ms/step - loss: 0.9741 - acc: 0.6667 - val_loss: 0.8884 - val_acc: 0.7937\n",
      "\n",
      "Epoch 00013: val_loss improved from 0.95473 to 0.88844, saving model to best_model.h5\n",
      "Epoch 14/100\n",
      "189/189 [==============================] - 12s 64ms/step - loss: 0.9971 - acc: 0.6614 - val_loss: 0.8044 - val_acc: 0.7778\n",
      "\n",
      "Epoch 00014: val_loss improved from 0.88844 to 0.80443, saving model to best_model.h5\n",
      "Epoch 15/100\n",
      "189/189 [==============================] - 11s 58ms/step - loss: 0.9044 - acc: 0.6878 - val_loss: 0.8371 - val_acc: 0.7143\n",
      "\n",
      "Epoch 00015: val_loss did not improve from 0.80443\n",
      "Epoch 16/100\n",
      "189/189 [==============================] - 11s 60ms/step - loss: 0.8447 - acc: 0.6614 - val_loss: 0.6870 - val_acc: 0.8254\n",
      "\n",
      "Epoch 00016: val_loss improved from 0.80443 to 0.68696, saving model to best_model.h5\n",
      "Epoch 17/100\n",
      "189/189 [==============================] - 11s 60ms/step - loss: 0.7920 - acc: 0.7513 - val_loss: 0.6147 - val_acc: 0.8095\n",
      "\n",
      "Epoch 00017: val_loss improved from 0.68696 to 0.61473, saving model to best_model.h5\n",
      "Epoch 18/100\n",
      "189/189 [==============================] - 10s 54ms/step - loss: 0.7786 - acc: 0.7407 - val_loss: 0.6272 - val_acc: 0.8095\n",
      "\n",
      "Epoch 00018: val_loss did not improve from 0.61473\n",
      "Epoch 19/100\n",
      "189/189 [==============================] - 10s 53ms/step - loss: 0.7478 - acc: 0.7513 - val_loss: 0.5369 - val_acc: 0.8730\n",
      "\n",
      "Epoch 00019: val_loss improved from 0.61473 to 0.53693, saving model to best_model.h5\n",
      "Epoch 20/100\n",
      "189/189 [==============================] - 10s 55ms/step - loss: 0.6708 - acc: 0.7672 - val_loss: 0.5081 - val_acc: 0.8889\n",
      "\n",
      "Epoch 00020: val_loss improved from 0.53693 to 0.50813, saving model to best_model.h5\n",
      "Epoch 21/100\n",
      "189/189 [==============================] - 10s 55ms/step - loss: 0.6399 - acc: 0.7672 - val_loss: 0.5140 - val_acc: 0.8413\n",
      "\n",
      "Epoch 00021: val_loss did not improve from 0.50813\n",
      "Epoch 22/100\n",
      "189/189 [==============================] - 11s 60ms/step - loss: 0.5524 - acc: 0.8360 - val_loss: 0.3898 - val_acc: 0.9206\n",
      "\n",
      "Epoch 00022: val_loss improved from 0.50813 to 0.38982, saving model to best_model.h5\n",
      "Epoch 23/100\n",
      "189/189 [==============================] - 10s 51ms/step - loss: 0.5530 - acc: 0.8466 - val_loss: 0.3873 - val_acc: 0.8889\n",
      "\n",
      "Epoch 00023: val_loss improved from 0.38982 to 0.38729, saving model to best_model.h5\n",
      "Epoch 24/100\n",
      "189/189 [==============================] - 9s 49ms/step - loss: 0.5628 - acc: 0.8254 - val_loss: 0.3343 - val_acc: 0.9365\n",
      "\n",
      "Epoch 00024: val_loss improved from 0.38729 to 0.33430, saving model to best_model.h5\n",
      "Epoch 25/100\n",
      "189/189 [==============================] - 10s 51ms/step - loss: 0.5468 - acc: 0.8466 - val_loss: 0.3675 - val_acc: 0.9206\n",
      "\n",
      "Epoch 00025: val_loss did not improve from 0.33430\n",
      "Epoch 26/100\n",
      "189/189 [==============================] - 9s 49ms/step - loss: 0.4677 - acc: 0.8519 - val_loss: 0.3989 - val_acc: 0.8730\n",
      "\n",
      "Epoch 00026: val_loss did not improve from 0.33430\n",
      "Epoch 27/100\n",
      "189/189 [==============================] - 9s 48ms/step - loss: 0.5006 - acc: 0.8466 - val_loss: 0.2942 - val_acc: 0.9365\n",
      "\n",
      "Epoch 00027: val_loss improved from 0.33430 to 0.29417, saving model to best_model.h5\n",
      "Epoch 28/100\n",
      "189/189 [==============================] - 10s 52ms/step - loss: 0.4166 - acc: 0.8730 - val_loss: 0.3117 - val_acc: 0.9206\n",
      "\n",
      "Epoch 00028: val_loss did not improve from 0.29417\n",
      "Epoch 29/100\n",
      "189/189 [==============================] - 9s 48ms/step - loss: 0.4575 - acc: 0.8413 - val_loss: 0.2529 - val_acc: 0.9524\n",
      "\n",
      "Epoch 00029: val_loss improved from 0.29417 to 0.25288, saving model to best_model.h5\n",
      "Epoch 30/100\n",
      "189/189 [==============================] - 9s 49ms/step - loss: 0.4470 - acc: 0.8571 - val_loss: 0.2782 - val_acc: 0.9365\n",
      "\n",
      "Epoch 00030: val_loss did not improve from 0.25288\n",
      "Epoch 31/100\n",
      "189/189 [==============================] - 9s 50ms/step - loss: 0.3920 - acc: 0.8889 - val_loss: 0.3360 - val_acc: 0.9048\n",
      "\n",
      "Epoch 00031: val_loss did not improve from 0.25288\n",
      "Epoch 32/100\n",
      "189/189 [==============================] - 9s 50ms/step - loss: 0.4065 - acc: 0.8677 - val_loss: 0.2526 - val_acc: 0.9365\n",
      "\n",
      "Epoch 00032: val_loss improved from 0.25288 to 0.25262, saving model to best_model.h5\n",
      "Epoch 33/100\n",
      "189/189 [==============================] - 9s 48ms/step - loss: 0.3700 - acc: 0.8836 - val_loss: 0.2443 - val_acc: 0.9524\n",
      "\n",
      "Epoch 00033: val_loss improved from 0.25262 to 0.24434, saving model to best_model.h5\n",
      "Epoch 34/100\n",
      "189/189 [==============================] - 9s 49ms/step - loss: 0.3787 - acc: 0.8730 - val_loss: 0.3525 - val_acc: 0.8889\n",
      "\n",
      "Epoch 00034: val_loss did not improve from 0.24434\n",
      "Epoch 35/100\n",
      "189/189 [==============================] - 10s 51ms/step - loss: 0.3254 - acc: 0.8889 - val_loss: 0.2199 - val_acc: 0.9524\n",
      "\n",
      "Epoch 00035: val_loss improved from 0.24434 to 0.21993, saving model to best_model.h5\n",
      "Epoch 36/100\n",
      "189/189 [==============================] - 10s 51ms/step - loss: 0.3402 - acc: 0.8942 - val_loss: 0.2822 - val_acc: 0.9048\n",
      "\n",
      "Epoch 00036: val_loss did not improve from 0.21993\n",
      "Epoch 37/100\n",
      "189/189 [==============================] - 9s 50ms/step - loss: 0.2646 - acc: 0.9259 - val_loss: 0.3795 - val_acc: 0.8889\n",
      "\n",
      "Epoch 00037: val_loss did not improve from 0.21993\n",
      "Epoch 38/100\n",
      "189/189 [==============================] - 10s 53ms/step - loss: 0.3304 - acc: 0.9153 - val_loss: 0.2860 - val_acc: 0.9048\n",
      "\n",
      "Epoch 00038: val_loss did not improve from 0.21993\n",
      "Epoch 39/100\n",
      "189/189 [==============================] - 9s 49ms/step - loss: 0.3129 - acc: 0.8889 - val_loss: 0.2269 - val_acc: 0.9365\n",
      "\n",
      "Epoch 00039: val_loss did not improve from 0.21993\n",
      "Epoch 40/100\n"
     ]
    },
    {
     "name": "stdout",
     "output_type": "stream",
     "text": [
      "189/189 [==============================] - 9s 50ms/step - loss: 0.2815 - acc: 0.8942 - val_loss: 0.2106 - val_acc: 0.9365\n",
      "\n",
      "Epoch 00040: val_loss improved from 0.21993 to 0.21061, saving model to best_model.h5\n",
      "Epoch 41/100\n",
      "189/189 [==============================] - 10s 51ms/step - loss: 0.2454 - acc: 0.9153 - val_loss: 0.2151 - val_acc: 0.9365\n",
      "\n",
      "Epoch 00041: val_loss did not improve from 0.21061\n",
      "Epoch 42/100\n",
      "189/189 [==============================] - 9s 50ms/step - loss: 0.2726 - acc: 0.9101 - val_loss: 0.1686 - val_acc: 0.9683\n",
      "\n",
      "Epoch 00042: val_loss improved from 0.21061 to 0.16859, saving model to best_model.h5\n",
      "Epoch 43/100\n",
      "189/189 [==============================] - 10s 51ms/step - loss: 0.2922 - acc: 0.9048 - val_loss: 0.3083 - val_acc: 0.9206\n",
      "\n",
      "Epoch 00043: val_loss did not improve from 0.16859\n",
      "Epoch 44/100\n",
      "189/189 [==============================] - 10s 50ms/step - loss: 0.2814 - acc: 0.9101 - val_loss: 0.2523 - val_acc: 0.9365\n",
      "\n",
      "Epoch 00044: val_loss did not improve from 0.16859\n",
      "Epoch 45/100\n",
      "189/189 [==============================] - 10s 51ms/step - loss: 0.2824 - acc: 0.9153 - val_loss: 0.1912 - val_acc: 0.9683\n",
      "\n",
      "Epoch 00045: val_loss did not improve from 0.16859\n",
      "Epoch 46/100\n",
      "189/189 [==============================] - 9s 49ms/step - loss: 0.2372 - acc: 0.9365 - val_loss: 0.2189 - val_acc: 0.9365\n",
      "\n",
      "Epoch 00046: val_loss did not improve from 0.16859\n",
      "Epoch 47/100\n",
      "189/189 [==============================] - 10s 51ms/step - loss: 0.2135 - acc: 0.9312 - val_loss: 0.1713 - val_acc: 0.9524\n",
      "\n",
      "Epoch 00047: val_loss did not improve from 0.16859\n",
      "Epoch 48/100\n",
      "189/189 [==============================] - 9s 49ms/step - loss: 0.2161 - acc: 0.9471 - val_loss: 0.2850 - val_acc: 0.9048\n",
      "\n",
      "Epoch 00048: val_loss did not improve from 0.16859\n",
      "Epoch 49/100\n",
      "189/189 [==============================] - 10s 51ms/step - loss: 0.2214 - acc: 0.9418 - val_loss: 0.1616 - val_acc: 0.9683\n",
      "\n",
      "Epoch 00049: val_loss improved from 0.16859 to 0.16159, saving model to best_model.h5\n",
      "Epoch 50/100\n",
      "189/189 [==============================] - 9s 49ms/step - loss: 0.2329 - acc: 0.9365 - val_loss: 0.3115 - val_acc: 0.8889\n",
      "\n",
      "Epoch 00050: val_loss did not improve from 0.16159\n",
      "Epoch 51/100\n",
      "189/189 [==============================] - 10s 51ms/step - loss: 0.1851 - acc: 0.9259 - val_loss: 0.1974 - val_acc: 0.9524\n",
      "\n",
      "Epoch 00051: val_loss did not improve from 0.16159\n",
      "Epoch 52/100\n",
      "189/189 [==============================] - 9s 50ms/step - loss: 0.1792 - acc: 0.9577 - val_loss: 0.2743 - val_acc: 0.9206\n",
      "\n",
      "Epoch 00052: val_loss did not improve from 0.16159\n",
      "Epoch 53/100\n",
      "189/189 [==============================] - 10s 54ms/step - loss: 0.2511 - acc: 0.9365 - val_loss: 0.1814 - val_acc: 0.9524\n",
      "\n",
      "Epoch 00053: val_loss did not improve from 0.16159\n",
      "Epoch 54/100\n",
      "189/189 [==============================] - 11s 56ms/step - loss: 0.2360 - acc: 0.9153 - val_loss: 0.2559 - val_acc: 0.9048\n",
      "\n",
      "Epoch 00054: val_loss did not improve from 0.16159\n",
      "Epoch 55/100\n",
      "189/189 [==============================] - 11s 56ms/step - loss: 0.2451 - acc: 0.9312 - val_loss: 0.1831 - val_acc: 0.9524\n",
      "\n",
      "Epoch 00055: val_loss did not improve from 0.16159\n",
      "Epoch 56/100\n",
      "189/189 [==============================] - 10s 52ms/step - loss: 0.1333 - acc: 0.9630 - val_loss: 0.1680 - val_acc: 0.9683\n",
      "\n",
      "Epoch 00056: val_loss did not improve from 0.16159\n",
      "Epoch 57/100\n",
      "189/189 [==============================] - 12s 63ms/step - loss: 0.1566 - acc: 0.9630 - val_loss: 0.1942 - val_acc: 0.9524\n",
      "\n",
      "Epoch 00057: val_loss did not improve from 0.16159\n",
      "Epoch 58/100\n",
      "189/189 [==============================] - 11s 60ms/step - loss: 0.1340 - acc: 0.9577 - val_loss: 0.1885 - val_acc: 0.9683\n",
      "\n",
      "Epoch 00058: val_loss did not improve from 0.16159\n",
      "Epoch 59/100\n",
      "189/189 [==============================] - 11s 60ms/step - loss: 0.1680 - acc: 0.9471 - val_loss: 0.1889 - val_acc: 0.9524\n",
      "\n",
      "Epoch 00059: val_loss did not improve from 0.16159\n",
      "Epoch 60/100\n",
      "189/189 [==============================] - 12s 63ms/step - loss: 0.1595 - acc: 0.9524 - val_loss: 0.2168 - val_acc: 0.9524\n",
      "\n",
      "Epoch 00060: val_loss did not improve from 0.16159\n",
      "Epoch 61/100\n",
      "189/189 [==============================] - 11s 60ms/step - loss: 0.1229 - acc: 0.9577 - val_loss: 0.2083 - val_acc: 0.9524\n",
      "\n",
      "Epoch 00061: val_loss did not improve from 0.16159\n",
      "Epoch 62/100\n",
      "189/189 [==============================] - 13s 67ms/step - loss: 0.1370 - acc: 0.9577 - val_loss: 0.1798 - val_acc: 0.9365\n",
      "\n",
      "Epoch 00062: val_loss did not improve from 0.16159\n",
      "Epoch 63/100\n",
      "189/189 [==============================] - 11s 58ms/step - loss: 0.1582 - acc: 0.9418 - val_loss: 0.2089 - val_acc: 0.9524\n",
      "\n",
      "Epoch 00063: val_loss did not improve from 0.16159\n",
      "Epoch 64/100\n",
      "189/189 [==============================] - 10s 54ms/step - loss: 0.1138 - acc: 0.9683 - val_loss: 0.1873 - val_acc: 0.9683\n",
      "\n",
      "Epoch 00064: val_loss did not improve from 0.16159\n",
      "Epoch 65/100\n",
      "189/189 [==============================] - 12s 65ms/step - loss: 0.1250 - acc: 0.9577 - val_loss: 0.1739 - val_acc: 0.9683\n",
      "\n",
      "Epoch 00065: val_loss did not improve from 0.16159\n",
      "Epoch 66/100\n",
      "189/189 [==============================] - 12s 65ms/step - loss: 0.1641 - acc: 0.9524 - val_loss: 0.2339 - val_acc: 0.9206\n",
      "\n",
      "Epoch 00066: val_loss did not improve from 0.16159\n",
      "Epoch 67/100\n",
      "189/189 [==============================] - 12s 64ms/step - loss: 0.1049 - acc: 0.9735 - val_loss: 0.1821 - val_acc: 0.9683\n",
      "\n",
      "Epoch 00067: val_loss did not improve from 0.16159\n",
      "Epoch 68/100\n",
      "189/189 [==============================] - 11s 60ms/step - loss: 0.1139 - acc: 0.9577 - val_loss: 0.2466 - val_acc: 0.9206\n",
      "\n",
      "Epoch 00068: val_loss did not improve from 0.16159\n",
      "Epoch 69/100\n",
      "189/189 [==============================] - 12s 62ms/step - loss: 0.1060 - acc: 0.9630 - val_loss: 0.2220 - val_acc: 0.9365\n",
      "\n",
      "Epoch 00069: val_loss did not improve from 0.16159\n",
      "Epoch 00069: early stopping\n"
     ]
    }
   ],
   "source": [
    "history = model.fit(x=np.swapaxes(X_train,1,2),y=y_train,batch_size=25,epochs=100,validation_data=(np.swapaxes(X_test,1,2),y_test),callbacks=[es,mc])"
   ]
  },
  {
   "cell_type": "code",
   "execution_count": 109,
   "metadata": {},
   "outputs": [
    {
     "data": {
      "text/plain": [
       "(252, 75, 2)"
      ]
     },
     "execution_count": 109,
     "metadata": {},
     "output_type": "execute_result"
    }
   ],
   "source": [
    "np.swapaxes(X,1,2).shape"
   ]
  },
  {
   "cell_type": "code",
   "execution_count": 110,
   "metadata": {},
   "outputs": [
    {
     "name": "stdout",
     "output_type": "stream",
     "text": [
      "1/1 [==============================] - 1s 943ms/step\n",
      "[[9.9739033e-01 2.3483699e-06 1.4757680e-03 1.6244283e-06 1.1299369e-03]]\n"
     ]
    },
    {
     "data": {
      "text/plain": [
       "array([[1., 0., 0., 0., 0.]], dtype=float32)"
      ]
     },
     "execution_count": 110,
     "metadata": {},
     "output_type": "execute_result"
    }
   ],
   "source": [
    "print(model.predict(np.swapaxes(X[0:1],1,2),verbose=1))\n",
    "Z[0:1]"
   ]
  },
  {
   "cell_type": "markdown",
   "metadata": {},
   "source": [
    "## Live Inference <a id = 'Live_Inference' ></a> "
   ]
  },
  {
   "cell_type": "code",
   "execution_count": 77,
   "metadata": {},
   "outputs": [],
   "source": [
    "from pynput import mouse"
   ]
  },
  {
   "cell_type": "code",
   "execution_count": 78,
   "metadata": {},
   "outputs": [],
   "source": [
    "def on_move(x,y):\n",
    "    mouse_position_X.append(x)\n",
    "    mouse_position_Y.append(y)\n",
    "    \n",
    "def on_click(x,y,button,pressed):\n",
    "    return False"
   ]
  },
  {
   "cell_type": "code",
   "execution_count": 79,
   "metadata": {},
   "outputs": [],
   "source": [
    "\n",
    "def GetMouseGesture():\n",
    "    with mouse.Listener(on_move = on_move, on_click = on_click) as listener:\n",
    "        listener.join()\n",
    "    temp = np.zeros((1,maxLen,2))\n",
    "    x = list(map(lambda x:max_min_normalize(X_MAX,X_MIN,x),mouse_position_X[:maxLen]))\n",
    "    y = list(map(lambda y:max_min_normalize(Y_MAX,Y_MIN,y),mouse_position_Y[:maxLen]))\n",
    "    if len(mouse_position_X) > maxLen:\n",
    "        temp[0,:,0] = x\n",
    "        temp[0,:,1] = y\n",
    "    else:\n",
    "        temp[0,:len(x),0] =x\n",
    "        temp[0,:len(y),1] =y                       \n",
    "    return temp"
   ]
  },
  {
   "cell_type": "code",
   "execution_count": 119,
   "metadata": {},
   "outputs": [
    {
     "name": "stdout",
     "output_type": "stream",
     "text": [
      "3\n",
      "[[1.8178780e-06 4.1566016e-03 9.9648896e-04 8.4886992e-01 1.4597520e-01]]\n"
     ]
    },
    {
     "data": {
      "text/plain": [
       "[<matplotlib.lines.Line2D at 0x1de9264e860>]"
      ]
     },
     "execution_count": 119,
     "metadata": {},
     "output_type": "execute_result"
    },
    {
     "data": {
      "image/png": "[encoded data removed]",
      "text/plain": [
       "<Figure size 432x288 with 1 Axes>"
      ]
     },
     "metadata": {},
     "output_type": "display_data"
    }
   ],
   "source": [
    "mouse_position_X = []\n",
    "mouse_position_Y = []\n",
    "X_predict = GetMouseGesture()\n",
    "\n",
    "result_array = model.predict(X_predict)\n",
    "print(np.argmax(result_array))\n",
    "print(result_array)\n",
    "plt.plot(X_predict[0,:,0],X_predict[0,:,1])"
   ]
  },
  {
   "cell_type": "code",
   "execution_count": 120,
   "metadata": {},
   "outputs": [
    {
     "name": "stdout",
     "output_type": "stream",
     "text": [
      "[1, 2, 3]\n"
     ]
    },
    {
     "data": {
      "text/plain": [
       "array([[1.8178780e-06, 4.1566016e-03, 9.9648896e-04, 8.4886992e-01,\n",
       "        1.4597520e-01]], dtype=float32)"
      ]
     },
     "execution_count": 120,
     "metadata": {},
     "output_type": "execute_result"
    }
   ],
   "source": [
    "a = [1,2,3]\n",
    "print(a[:maxLen])\n",
    "result_array"
   ]
  },
  {
   "cell_type": "code",
   "execution_count": 121,
   "metadata": {},
   "outputs": [
    {
     "name": "stdout",
     "output_type": "stream",
     "text": [
      "_________________________________________________________________\n",
      "Layer (type)                 Output Shape              Param #   \n",
      "=================================================================\n",
      "input_9 (InputLayer)         (None, 75, 2)             0         \n",
      "_________________________________________________________________\n",
      "conv1d_25 (Conv1D)           (None, 73, 64)            448       \n",
      "_________________________________________________________________\n",
      "conv1d_26 (Conv1D)           (None, 71, 64)            12352     \n",
      "_________________________________________________________________\n",
      "max_pooling1d_7 (MaxPooling1 (None, 23, 64)            0         \n",
      "_________________________________________________________________\n",
      "conv1d_27 (Conv1D)           (None, 21, 128)           24704     \n",
      "_________________________________________________________________\n",
      "conv1d_28 (Conv1D)           (None, 19, 128)           49280     \n",
      "_________________________________________________________________\n",
      "global_average_pooling1d_7 ( (None, 128)               0         \n",
      "_________________________________________________________________\n",
      "dropout_11 (Dropout)         (None, 128)               0         \n",
      "_________________________________________________________________\n",
      "dense_17 (Dense)             (None, 32)                4128      \n",
      "_________________________________________________________________\n",
      "dense_18 (Dense)             (None, 5)                 165       \n",
      "=================================================================\n",
      "Total params: 91,077\n",
      "Trainable params: 91,077\n",
      "Non-trainable params: 0\n",
      "_________________________________________________________________\n"
     ]
    }
   ],
   "source": [
    "model.summary()"
   ]
  },
  {
   "cell_type": "markdown",
   "metadata": {},
   "source": [
    "## Model Improvements\n",
    "Accuracy is only ~75%, needs to be above 90% for reliability. I haven't used any validation or test sets so I can't identify where to improve. However using more data is going to help because I have very less data. Around 20 examples for each class. i.e 101 in total."
   ]
  },
  {
   "cell_type": "code",
   "execution_count": 122,
   "metadata": {},
   "outputs": [
    {
     "data": {
      "image/png": "[encoded data removed]",
      "text/plain": [
       "<Figure size 432x288 with 1 Axes>"
      ]
     },
     "metadata": {},
     "output_type": "display_data"
    }
   ],
   "source": [
    "# plot training history\n",
    "plt.plot(history.history['loss'], label='train')\n",
    "plt.plot(history.history['val_loss'], label='test')\n",
    "plt.legend()\n",
    "plt.show()"
   ]
  }
 ],
 "metadata": {
  "kernelspec": {
   "display_name": "Python 3",
   "language": "python",
   "name": "python3"
  },
  "language_info": {
   "codemirror_mode": {
    "name": "ipython",
    "version": 3
   },
   "file_extension": ".py",
   "mimetype": "text/x-python",
   "name": "python",
   "nbconvert_exporter": "python",
   "pygments_lexer": "ipython3",
   "version": "3.6.6"
  }
 },
 "nbformat": 4,
 "nbformat_minor": 2
}
